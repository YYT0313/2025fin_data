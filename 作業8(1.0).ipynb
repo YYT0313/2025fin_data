{
 "cells": [
  {
   "cell_type": "code",
   "execution_count": 1,
   "id": "a4060598",
   "metadata": {},
   "outputs": [],
   "source": [
    "import numpy as np\n",
    "import scipy.stats as si"
   ]
  },
  {
   "cell_type": "code",
   "execution_count": 2,
   "id": "9ca5096f",
   "metadata": {},
   "outputs": [],
   "source": [
    "S, K, r, sigma = 90, 100, 0.01, 0.3"
   ]
  },
  {
   "cell_type": "code",
   "execution_count": 3,
   "id": "9df659f5",
   "metadata": {},
   "outputs": [],
   "source": [
    "T1, T2, T3, T4, T5 = 1, 0.9, 0.5, 0.3, 0.1"
   ]
  },
  {
   "cell_type": "code",
   "execution_count": 5,
   "id": "ee97369e",
   "metadata": {},
   "outputs": [
    {
     "data": {
      "text/plain": [
       "(-0.1678683855260876,\n",
       " -0.19627384527803335,\n",
       " -0.36703799072220217,\n",
       " -0.5407878766370275,\n",
       " -1.0526222593254624)"
      ]
     },
     "execution_count": 5,
     "metadata": {},
     "output_type": "execute_result"
    }
   ],
   "source": [
    "d11 = (np.log(S/K)+(r+0.5*sigma**2)*T1)/(sigma*np.sqrt(T1))\n",
    "d12 = (np.log(S/K)+(r+0.5*sigma**2)*T2)/(sigma*np.sqrt(T2))\n",
    "d13 = (np.log(S/K)+(r+0.5*sigma**2)*T3)/(sigma*np.sqrt(T3))\n",
    "d14 = (np.log(S/K)+(r+0.5*sigma**2)*T4)/(sigma*np.sqrt(T4))\n",
    "d15 = (np.log(S/K)+(r+0.5*sigma**2)*T5)/(sigma*np.sqrt(T5))\n",
    "\n",
    "d11, d12, d13, d14, d15"
   ]
  },
  {
   "cell_type": "code",
   "execution_count": 8,
   "id": "6eff583b",
   "metadata": {},
   "outputs": [
    {
     "data": {
      "text/plain": [
       "(-0.46786838552608756,\n",
       " -0.4808788346931875,\n",
       " -0.5791700250781664,\n",
       " -0.7051046438885773,\n",
       " -1.1474905891305138)"
      ]
     },
     "execution_count": 8,
     "metadata": {},
     "output_type": "execute_result"
    }
   ],
   "source": [
    "d21 = d11 - sigma*np.sqrt(T1)\n",
    "d22 = d12 - sigma*np.sqrt(T2)\n",
    "d23 = d13 - sigma*np.sqrt(T3)\n",
    "d24 = d14 - sigma*np.sqrt(T4)\n",
    "d25 = d15 - sigma*np.sqrt(T5)\n",
    "\n",
    "d21, d22, d23, d24, d25"
   ]
  },
  {
   "cell_type": "code",
   "execution_count": 11,
   "id": "28a3b3a7",
   "metadata": {},
   "outputs": [
    {
     "name": "stdout",
     "output_type": "stream",
     "text": [
      "T= 1 call= 7.325316316806504\n"
     ]
    },
    {
     "data": {
      "text/plain": [
       "(6.750179641562781, 4.128125544870759, 2.5241688673926532, 0.6167434536213108)"
      ]
     },
     "execution_count": 11,
     "metadata": {},
     "output_type": "execute_result"
    }
   ],
   "source": [
    "call1 = S*si.norm.cdf(d11,0.0,1.0)-K*np.exp(-r*T1)*si.norm.cdf(d21,0.0,1.0)\n",
    "call2 = S*si.norm.cdf(d12,0.0,1.0)-K*np.exp(-r*T2)*si.norm.cdf(d22,0.0,1.0)\n",
    "call3 = S*si.norm.cdf(d13,0.0,1.0)-K*np.exp(-r*T3)*si.norm.cdf(d23,0.0,1.0)\n",
    "call4 = S*si.norm.cdf(d14,0.0,1.0)-K*np.exp(-r*T4)*si.norm.cdf(d24,0.0,1.0)\n",
    "call5 = S*si.norm.cdf(d15,0.0,1.0)-K*np.exp(-r*T5)*si.norm.cdf(d25,0.0,1.0)\n",
    "\n",
    "\n",
    "print(\"T=\",T1,\"call=\",call1)\n",
    "print(\"T=\",T2,\"call=\",call1)\n",
    "print(\"T=\",T3,\"call=\",call1)\n",
    "print(\"T=\",T4,\"call=\",call1)\n",
    "print(\"T=\",T5,\"call=\",call1)"
   ]
  },
  {
   "cell_type": "code",
   "execution_count": null,
   "id": "e4e84928",
   "metadata": {},
   "outputs": [],
   "source": []
  }
 ],
 "metadata": {
  "kernelspec": {
   "display_name": "Python (base - TA-Lib)",
   "language": "python",
   "name": "base"
  },
  "language_info": {
   "codemirror_mode": {
    "name": "ipython",
    "version": 3
   },
   "file_extension": ".py",
   "mimetype": "text/x-python",
   "name": "python",
   "nbconvert_exporter": "python",
   "pygments_lexer": "ipython3",
   "version": "3.11.5"
  }
 },
 "nbformat": 4,
 "nbformat_minor": 5
}
