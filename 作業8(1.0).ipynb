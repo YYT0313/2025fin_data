{
 "cells": [
  {
   "cell_type": "code",
   "execution_count": 1,
   "id": "c6656ecb",
   "metadata": {},
   "outputs": [],
   "source": [
    "import numpy as np\n",
    "import scipy.stats as si"
   ]
  },
  {
   "cell_type": "code",
   "execution_count": 2,
   "id": "752885da",
   "metadata": {},
   "outputs": [],
   "source": [
    "S, K, r, sigma = 90, 100, 0.01, 0.3"
   ]
  },
  {
   "cell_type": "code",
   "execution_count": 3,
   "id": "8c5c2a4d",
   "metadata": {},
   "outputs": [],
   "source": [
    "T1, T2, T3, T4, T5 = 1, 0.9, 0.5, 0.3, 0.1"
   ]
  },
  {
   "cell_type": "code",
   "execution_count": 5,
   "id": "c060ed36",
   "metadata": {},
   "outputs": [
    {
     "data": {
      "text/plain": [
       "(-0.1678683855260876,\n",
       " -0.19627384527803335,\n",
       " -0.36703799072220217,\n",
       " -0.5407878766370275,\n",
       " -1.0526222593254624)"
      ]
     },
     "execution_count": 5,
     "metadata": {},
     "output_type": "execute_result"
    }
   ],
   "source": [
    "d11 = (np.log(S/K)+(r+0.5*sigma**2)*T1)/(sigma*np.sqrt(T1))\n",
    "d12 = (np.log(S/K)+(r+0.5*sigma**2)*T2)/(sigma*np.sqrt(T2))\n",
    "d13 = (np.log(S/K)+(r+0.5*sigma**2)*T3)/(sigma*np.sqrt(T3))\n",
    "d14 = (np.log(S/K)+(r+0.5*sigma**2)*T4)/(sigma*np.sqrt(T4))\n",
    "d15 = (np.log(S/K)+(r+0.5*sigma**2)*T5)/(sigma*np.sqrt(T5))\n",
    "\n",
    "d11, d12, d13, d14, d15"
   ]
  },
  {
   "cell_type": "code",
   "execution_count": 8,
   "id": "c9cbee63",
   "metadata": {},
   "outputs": [
    {
     "data": {
      "text/plain": [
       "(-0.46786838552608756,\n",
       " -0.4808788346931875,\n",
       " -0.5791700250781664,\n",
       " -0.7051046438885773,\n",
       " -1.1474905891305138)"
      ]
     },
     "execution_count": 8,
     "metadata": {},
     "output_type": "execute_result"
    }
   ],
   "source": [
    "d21 = d11 - sigma*np.sqrt(T1)\n",
    "d22 = d12 - sigma*np.sqrt(T2)\n",
    "d23 = d13 - sigma*np.sqrt(T3)\n",
    "d24 = d14 - sigma*np.sqrt(T4)\n",
    "d25 = d15 - sigma*np.sqrt(T5)\n",
    "\n",
    "d21, d22, d23, d24, d25"
   ]
  },
  {
   "cell_type": "code",
   "execution_count": 13,
   "id": "b29d72cc",
   "metadata": {},
   "outputs": [
    {
     "name": "stdout",
     "output_type": "stream",
     "text": [
      "T= 1 call= 7.325316316806504\n",
      "T= 0.9 call= 6.750179641562781\n",
      "T= 0.5 call= 4.128125544870759\n",
      "T= 0.3 call= 2.5241688673926532\n",
      "T= 0.1 call= 0.6167434536213108\n"
     ]
    }
   ],
   "source": [
    "call1 = S*si.norm.cdf(d11,0.0,1.0)-K*np.exp(-r*T1)*si.norm.cdf(d21,0.0,1.0)\n",
    "call2 = S*si.norm.cdf(d12,0.0,1.0)-K*np.exp(-r*T2)*si.norm.cdf(d22,0.0,1.0)\n",
    "call3 = S*si.norm.cdf(d13,0.0,1.0)-K*np.exp(-r*T3)*si.norm.cdf(d23,0.0,1.0)\n",
    "call4 = S*si.norm.cdf(d14,0.0,1.0)-K*np.exp(-r*T4)*si.norm.cdf(d24,0.0,1.0)\n",
    "call5 = S*si.norm.cdf(d15,0.0,1.0)-K*np.exp(-r*T5)*si.norm.cdf(d25,0.0,1.0)\n",
    "\n",
    "\n",
    "print(\"T=\",T1,\"call=\",call1)\n",
    "print(\"T=\",T2,\"call=\",call2)\n",
    "print(\"T=\",T3,\"call=\",call3)\n",
    "print(\"T=\",T4,\"call=\",call4)\n",
    "print(\"T=\",T5,\"call=\",call5)"
   ]
  },
  {
   "cell_type": "code",
   "execution_count": null,
   "id": "3fffe064",
   "metadata": {},
   "outputs": [],
   "source": []
  }
 ],
 "metadata": {
  "kernelspec": {
   "display_name": "Python (base - TA-Lib)",
   "language": "python",
   "name": "base"
  },
  "language_info": {
   "codemirror_mode": {
    "name": "ipython",
    "version": 3
   },
   "file_extension": ".py",
   "mimetype": "text/x-python",
   "name": "python",
   "nbconvert_exporter": "python",
   "pygments_lexer": "ipython3",
   "version": "3.11.5"
  }
 },
 "nbformat": 4,
 "nbformat_minor": 5
}
