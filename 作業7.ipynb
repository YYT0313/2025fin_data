{
 "cells": [
  {
   "cell_type": "code",
   "execution_count": 77,
   "id": "98e01144",
   "metadata": {},
   "outputs": [
    {
     "name": "stdout",
     "output_type": "stream",
     "text": [
      "8\n"
     ]
    }
   ],
   "source": [
    "n = eval(input())"
   ]
  },
  {
   "cell_type": "code",
   "execution_count": 78,
   "id": "6cc17260",
   "metadata": {},
   "outputs": [
    {
     "name": "stdout",
     "output_type": "stream",
     "text": [
      "[1, 1, 2, 3, 5, 8, 13, 21]\n",
      "[1.0, 0.5, 0.6666666666666666, 0.6, 0.625, 0.6153846153846154, 0.6190476190476191]\n"
     ]
    }
   ],
   "source": [
    "num_list = [1,1]\n",
    "num2_list = []\n",
    "fibonacci(n)"
   ]
  },
  {
   "cell_type": "code",
   "execution_count": 76,
   "id": "06a088e4",
   "metadata": {},
   "outputs": [],
   "source": [
    "def fibonacci (n):\n",
    "    time = n - 2\n",
    "    for i in range(0,time):\n",
    "        new_num = num_list[i]+num_list[i+1]\n",
    "        num_list.append(new_num)\n",
    "    print(num_list)\n",
    "    \n",
    "    l = len(num_list)\n",
    "    for j in range(0,l-1):\n",
    "        d = num_list[j] / num_list[j+1]\n",
    "        num2_list.append(d)\n",
    "    print(num2_list)"
   ]
  },
  {
   "cell_type": "code",
   "execution_count": 36,
   "id": "b4971961",
   "metadata": {},
   "outputs": [],
   "source": []
  },
  {
   "cell_type": "code",
   "execution_count": null,
   "id": "36ac3090",
   "metadata": {},
   "outputs": [],
   "source": []
  },
  {
   "cell_type": "code",
   "execution_count": null,
   "id": "33828c1b",
   "metadata": {},
   "outputs": [],
   "source": []
  },
  {
   "cell_type": "code",
   "execution_count": null,
   "id": "f5ef5523",
   "metadata": {},
   "outputs": [],
   "source": []
  },
  {
   "cell_type": "code",
   "execution_count": null,
   "id": "7219775d",
   "metadata": {},
   "outputs": [],
   "source": []
  }
 ],
 "metadata": {
  "kernelspec": {
   "display_name": "Python 3 (ipykernel)",
   "language": "python",
   "name": "python3"
  },
  "language_info": {
   "codemirror_mode": {
    "name": "ipython",
    "version": 3
   },
   "file_extension": ".py",
   "mimetype": "text/x-python",
   "name": "python",
   "nbconvert_exporter": "python",
   "pygments_lexer": "ipython3",
   "version": "3.9.18"
  }
 },
 "nbformat": 4,
 "nbformat_minor": 5
}
